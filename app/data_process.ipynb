{
 "cells": [
  {
   "cell_type": "code",
   "execution_count": 6,
   "metadata": {},
   "outputs": [],
   "source": [
    "import pandas as pd\n",
    "url = \"https://raw.githubusercontent.com/nychealth/coronavirus-data/master/by-poverty.csv\"\n",
    "df = pd.read_csv(url, error_bad_lines=False)\n",
    "df_use = df[['POVERTY_GROUP', 'CASE_COUNT']]\n",
    "# write a dataframe to tsv file\n",
    "df_use.to_csv(\"/Users/liloli/Documents/GitHub/Fall2020-Project2-group6/data/by-poverty-processed.tsv\", sep=\"\\t\")"
   ]
  },
  {
   "cell_type": "code",
   "execution_count": null,
   "metadata": {},
   "outputs": [],
   "source": []
  }
 ],
 "metadata": {
  "kernelspec": {
   "display_name": "Python 3",
   "language": "python",
   "name": "python3"
  },
  "language_info": {
   "codemirror_mode": {
    "name": "ipython",
    "version": 3
   },
   "file_extension": ".py",
   "mimetype": "text/x-python",
   "name": "python",
   "nbconvert_exporter": "python",
   "pygments_lexer": "ipython3",
   "version": "3.7.6"
  }
 },
 "nbformat": 4,
 "nbformat_minor": 2
}
